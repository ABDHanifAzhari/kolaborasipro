{
 "cells": [
  {
   "attachments": {},
   "cell_type": "markdown",
   "metadata": {},
   "source": [
    "Ketua\n",
    "\n",
    "NPM     : 200411100101\n",
    "\n",
    "Nama    : Abd. Hanif Azhari\n",
    "\n",
    "Anggota\n",
    "\n",
    "NPM     : 200411100051\n",
    "\n",
    "Nama    : Zuni Amanda Dewi\n",
    "\n",
    "Github Ketua : "
   ]
  },
  {
   "cell_type": "code",
   "execution_count": null,
   "metadata": {},
   "outputs": [],
   "source": []
  }
 ],
 "metadata": {
  "language_info": {
   "name": "python"
  },
  "orig_nbformat": 4
 },
 "nbformat": 4,
 "nbformat_minor": 2
}
